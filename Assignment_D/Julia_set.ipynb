{
 "cells": [
  {
   "cell_type": "code",
   "execution_count": null,
   "metadata": {},
   "outputs": [],
   "source": [
    "import numpy as np\n",
    "import matplotlib.pyplot as plt"
   ]
  },
  {
   "cell_type": "markdown",
   "metadata": {},
   "source": [
    "## Single Plot"
   ]
  },
  {
   "cell_type": "code",
   "execution_count": null,
   "metadata": {},
   "outputs": [],
   "source": [
    "def julia_set(c=-0.3 + 0.6j, height=800, width=1000, x=0, y=0, zoom=1, max_iterations=100):\n",
    "    # To make navigation easier we calculate these values\n",
    "    x_width = 1.5\n",
    "    y_height = 1.5*height/width\n",
    "    x_from = x - x_width/zoom\n",
    "    x_to = x + x_width/zoom\n",
    "    y_from = y - y_height/zoom\n",
    "    y_to = y + y_height/zoom\n",
    "    # Here the actual algorithm starts\n",
    "    x = np.linspace(x_from, x_to, width).reshape((1, width))\n",
    "    y = np.linspace(y_from, y_to, height).reshape((height, 1))\n",
    "    z = x + 1j * y\n",
    "    # Initialize z to all zero\n",
    "    c = np.full(z.shape, c)\n",
    "    # To keep track in which iteration the point diverged\n",
    "    div_time = np.zeros(z.shape, dtype=int)\n",
    "    # To keep track on which points did not converge so far\n",
    "    m = np.full(c.shape, True, dtype=bool)\n",
    "    for i in range(max_iterations):\n",
    "        z[m] = z[m]**2 + c[m]\n",
    "        m[np.abs(z) > 2] = False\n",
    "        div_time[m] = i\n",
    "    return div_time\n",
    "\n",
    "# sample\n",
    "plt.imshow(julia_set(c=-0.72+0.126j, max_iterations=1000), cmap='magma')\n",
    "plt.show()"
   ]
  },
  {
   "cell_type": "markdown",
   "metadata": {},
   "source": [
    "## Animation"
   ]
  },
  {
   "cell_type": "code",
   "execution_count": null,
   "metadata": {},
   "outputs": [],
   "source": [
    "img = None\n",
    "for f in range(5,100,10):\n",
    "    im=julia_set(c=-0.2+0.156j, max_iterations=100)\n",
    "    if img is None:\n",
    "        img = plt.imshow(im, cmap='magma')\n",
    "    else:\n",
    "        img.set_data(im)\n",
    "    plt.pause(.1)\n",
    "    plt.draw()"
   ]
  }
 ],
 "metadata": {
  "kernelspec": {
   "display_name": "Python 3.10.5 64-bit",
   "language": "python",
   "name": "python3"
  },
  "language_info": {
   "name": "python",
   "version": "3.10.5"
  },
  "orig_nbformat": 4,
  "vscode": {
   "interpreter": {
    "hash": "610c699f0cd8c4f129acd9140687fff6866bed0eb8e82f249fc8848b827b628c"
   }
  }
 },
 "nbformat": 4,
 "nbformat_minor": 2
}
