{
 "cells": [
  {
   "cell_type": "markdown",
   "id": "fc155b2d",
   "metadata": {},
   "source": [
    "# HPC in Finance - Performance Overview"
   ]
  },
  {
   "cell_type": "code",
   "execution_count": null,
   "id": "8b63f490",
   "metadata": {},
   "outputs": [
    {
     "ename": "",
     "evalue": "",
     "output_type": "error",
     "traceback": [
      "\u001b[1;31mRunning cells with 'Python 3.10.5 64-bit' requires ipykernel package.\n",
      "Run the following command to install 'ipykernel' into the Python environment. \n",
      "Command: '/opt/local/bin/python3.10 -m pip install ipykernel -U --user --force-reinstall'"
     ]
    }
   ],
   "source": [
    "from matplotlib import pyplot as plt\n",
    "import numpy as np\n",
    "import pandas as pd\n",
    "from scipy import stats, special\n",
    "from IPython.display import Image"
   ]
  },
  {
   "cell_type": "code",
   "execution_count": null,
   "id": "b367152a",
   "metadata": {},
   "outputs": [],
   "source": [
    "v0  = [332.1]                       # default\n",
    "v1  = [212.95]                      # put-call parity added\n",
    "v2  = [199.9]                       # float to double (CHECK AGAIN with std::expf etc.)                \n",
    "v3  = [198.25]                      # ... pass by const. reference added (e.g. const float& S) (runtime: -2%)\n",
    "v4  = [192.3]                       # switch (x / std::sqrt(2.0)) -> x * 0.707...\n",
    "v5  = [193.65]                      # N_CDF is inline (NO CHANGE)\n",
    "v6  = [193.05]                      # put & call are inline too (NO CHANGE)\n",
    "v7  = [191.1]                       # sigma_sqrt_t = sigma * std::sqrt(t) replacement\n",
    "v8  = [189.2]                       # 0.5* instead of /2.0\n",
    "v9  = [151.1]                       # std::pow(sigma, 2) --> sigma * sigma\n",
    "v10 = [149.15]                      # std::exp(-r*t) is global variable (changed in function calls)\n",
    "v11 = [144.1]                       # exp_min_t_r, sigma_sqrt_t, d_1 are all global\n",
    "v12 = [143.15]                      # 0.5*(1.0 + ...) = 0.5 + 0.5*...\n",
    "v13 = [123.05]                      # from std::vector<double> --> static double array\n",
    "v14 = [120.3]                       # static double array -> global (defined) double array\n",
    "v15 = [119.6]                       # changed conditions (> --> !=) and order s.t. most likely case comes 1st\n",
    "\n",
    "\n",
    "# Unattainable\n",
    "v20 = [39.25]                       # if inline were to be constant"
   ]
  },
  {
   "cell_type": "markdown",
   "id": "ed758084",
   "metadata": {},
   "source": [
    "### Idea: Replace costly `N_CDF` function that uses `std::erff` with table-like switch case"
   ]
  },
  {
   "cell_type": "code",
   "execution_count": 2,
   "id": "7fb86961",
   "metadata": {},
   "outputs": [],
   "source": [
    "quantile_table = dict()\n",
    "\n",
    "def std_erf(x):\n",
    "    '''return 0.5 * (1.0 + std::erff(x / std::sqrt(2.0)));'''\n",
    "    return 0.5+0.5*special.erf(x / np.sqrt(2.0))"
   ]
  },
  {
   "cell_type": "code",
   "execution_count": 3,
   "id": "160c8620",
   "metadata": {},
   "outputs": [
    {
     "data": {
      "text/plain": [
       "array([-1.7214819 , -1.28155157, -0.84162123, -0.52440051, -0.2533471 ,\n",
       "        0.        ,  0.2533471 ,  0.52440051,  0.84162123,  1.28155157,\n",
       "        1.7214819 ])"
      ]
     },
     "execution_count": 3,
     "metadata": {},
     "output_type": "execute_result"
    }
   ],
   "source": [
    "# define p grid\n",
    "p_grid = np.linspace(0.0,1.0,11)\n",
    "q_grid = np.array([stats.norm.ppf(p_loc, 0, 1) for p_loc in p_grid])\n",
    "# replace inf \n",
    "q_grid[0]  = q_grid[1]  + (q_grid[1] - q_grid[2])\n",
    "q_grid[-1] = q_grid[-2] + (q_grid[-2] - q_grid[-3])\n",
    "q_grid"
   ]
  },
  {
   "cell_type": "code",
   "execution_count": 4,
   "id": "ec8b8589",
   "metadata": {},
   "outputs": [
    {
     "name": "stdout",
     "output_type": "stream",
     "text": [
      "if(x < -1.72148){\n",
      "    return 0.0;\n",
      "}else if(x < -1.28155){\n",
      "    alpha = ((x + 1.28155) / (-1.72148 + 1.28155));\n",
      "    return alpha*0.1 + (1-alpha)*0.0;\n",
      "}else if(x < -0.84162){\n",
      "    alpha = ((x + 0.84162) / (-1.28155 + 0.84162));\n",
      "    return alpha*0.2 + (1-alpha)*0.1;\n",
      "}else if(x < -0.5244){\n",
      "    alpha = ((x + 0.5244) / (-0.84162 + 0.5244));\n",
      "    return alpha*0.3 + (1-alpha)*0.2;\n",
      "}else if(x < -0.25335){\n",
      "    alpha = ((x + 0.25335) / (-0.5244 + 0.25335));\n",
      "    return alpha*0.4 + (1-alpha)*0.3;\n",
      "}else if(x < 0.0){\n",
      "    alpha = ((x - 0.0) / (-0.25335 - 0.0));\n",
      "    return alpha*0.5 + (1-alpha)*0.4;\n",
      "}else if(x < 0.25335){\n",
      "    alpha = ((x - 0.25335) / (0.0 - 0.25335));\n",
      "    return alpha*0.6 + (1-alpha)*0.5;\n",
      "}else if(x < 0.5244){\n",
      "    alpha = ((x - 0.5244) / (0.25335 - 0.5244));\n",
      "    return alpha*0.7 + (1-alpha)*0.6;\n",
      "}else if(x < 0.84162){\n",
      "    alpha = ((x - 0.84162) / (0.5244 - 0.84162));\n",
      "    return alpha*0.8 + (1-alpha)*0.7;\n",
      "}else if(x < 1.28155){\n",
      "    alpha = ((x - 1.28155) / (0.84162 - 1.28155));\n",
      "    return alpha*0.9 + (1-alpha)*0.8;\n",
      "}\n",
      "else{\n",
      "    return 1.0;\n",
      "}\n"
     ]
    }
   ],
   "source": [
    "# compile C++ function body\n",
    "str_txt = \"\"\n",
    "for j, q_loc in enumerate(q_grid):\n",
    "    if j == 0:\n",
    "        str_txt += \"if(x < {}){{\\n    return 0.0;\\n}}\".format(str(round(q_loc, 5)))\n",
    "    elif((j != len(q_grid) - 1) and (q_grid[j] < 0)):\n",
    "        str_txt += \"else if(x < {}){{\\n    alpha = ((x + {}) / ({} + {}));\\n    return alpha*{} + (1-alpha)*{};\\n}}\".format(str(round(q_loc, 5)), \n",
    "                                                                                                                     str(round(-1*q_grid[j], 5)), \n",
    "                                                                                                                     str(round(q_grid[j-1], 5)),\n",
    "                                                                                                                     str(round(-1*q_grid[j], 5)), \n",
    "                                                                                                                     str(round(p_grid[j], 5)),\n",
    "                                                                                                                     str(round(p_grid[j-1], 5)))\n",
    "    elif((j != len(q_grid) - 1) and (q_grid[j] >= 0)):\n",
    "        str_txt += \"else if(x < {}){{\\n    alpha = ((x - {}) / ({} - {}));\\n    return alpha*{} + (1-alpha)*{};\\n}}\".format(str(round(q_loc, 5)), \n",
    "                                                                                                                     str(round(q_grid[j], 5)), \n",
    "                                                                                                                     str(round(q_grid[j-1], 5)),\n",
    "                                                                                                                     str(round(q_grid[j], 5)), \n",
    "                                                                                                                     str(round(p_grid[j], 5)),\n",
    "                                                                                                                     str(round(p_grid[j-1], 5)))\n",
    "    else:\n",
    "        str_txt += \"\\nelse{\\n    return 1.0;\\n}\"\n",
    "        break\n",
    "# print text\n",
    "print(str_txt)"
   ]
  },
  {
   "cell_type": "code",
   "execution_count": 5,
   "id": "7399e551",
   "metadata": {},
   "outputs": [
    {
     "name": "stdout",
     "output_type": "stream",
     "text": [
      "if(x < -1.72148):\n",
      "    return 0.0\n",
      "elif(x < -1.28155):\n",
      "    alpha = ((x + 1.28155) / (-1.72148 + 1.28155))\n",
      "    return alpha*0.1 + (1-alpha)*0.0\n",
      "elif(x < -0.84162):\n",
      "    alpha = ((x + 0.84162) / (-1.28155 + 0.84162))\n",
      "    return alpha*0.2 + (1-alpha)*0.1\n",
      "elif(x < -0.5244):\n",
      "    alpha = ((x + 0.5244) / (-0.84162 + 0.5244))\n",
      "    return alpha*0.3 + (1-alpha)*0.2\n",
      "elif(x < -0.25335):\n",
      "    alpha = ((x + 0.25335) / (-0.5244 + 0.25335))\n",
      "    return alpha*0.4 + (1-alpha)*0.3\n",
      "elif(x < 0.0):\n",
      "    alpha = ((x - 0.0) / (-0.25335 - 0.0))\n",
      "    return alpha*0.5 + (1-alpha)*0.4\n",
      "elif(x < 0.25335):\n",
      "    alpha = ((x - 0.25335) / (0.0 - 0.25335))\n",
      "    return alpha*0.6 + (1-alpha)*0.5\n",
      "elif(x < 0.5244):\n",
      "    alpha = ((x - 0.5244) / (0.25335 - 0.5244))\n",
      "    return alpha*0.7 + (1-alpha)*0.6\n",
      "elif(x < 0.84162):\n",
      "    alpha = ((x - 0.84162) / (0.5244 - 0.84162))\n",
      "    return alpha*0.8 + (1-alpha)*0.7\n",
      "elif(x < 1.28155):\n",
      "    alpha = ((x - 1.28155) / (0.84162 - 1.28155))\n",
      "    return alpha*0.9 + (1-alpha)*0.8\n",
      "else:\n",
      "    return 1.0\n"
     ]
    }
   ],
   "source": [
    "# compile Python function body\n",
    "str_txt = \"\"\n",
    "for j, q_loc in enumerate(q_grid):\n",
    "    if j == 0:\n",
    "        str_txt += \"if(x < {}):\\n    return 0.0\".format(str(round(q_loc, 5)))\n",
    "    elif((j != len(q_grid) - 1) and (q_grid[j] < 0)):\n",
    "        str_txt += \"\\nelif(x < {}):\\n    alpha = ((x + {}) / ({} + {}))\\n    return alpha*{} + (1-alpha)*{}\".format(str(round(q_loc, 5)), \n",
    "                                                                                                                     str(round(-1*q_grid[j], 5)), \n",
    "                                                                                                                     str(round(q_grid[j-1], 5)),\n",
    "                                                                                                                     str(round(-1*q_grid[j], 5)), \n",
    "                                                                                                                     str(round(p_grid[j], 5)),\n",
    "                                                                                                                     str(round(p_grid[j-1], 5)))\n",
    "    elif((j != len(q_grid) - 1) and (q_grid[j] >= 0)):\n",
    "        str_txt += \"\\nelif(x < {}):\\n    alpha = ((x - {}) / ({} - {}))\\n    return alpha*{} + (1-alpha)*{}\".format(str(round(q_loc, 5)), \n",
    "                                                                                                                     str(round(q_grid[j], 5)), \n",
    "                                                                                                                     str(round(q_grid[j-1], 5)),\n",
    "                                                                                                                     str(round(q_grid[j], 5)), \n",
    "                                                                                                                     str(round(p_grid[j], 5)),\n",
    "                                                                                                                     str(round(p_grid[j-1], 5)))\n",
    "    else:\n",
    "        str_txt += \"\\nelse:\\n    return 1.0\"\n",
    "        break\n",
    "# print text\n",
    "print(str_txt)"
   ]
  },
  {
   "cell_type": "code",
   "execution_count": 8,
   "id": "c67022a9",
   "metadata": {},
   "outputs": [],
   "source": [
    "def fake_erf(x):\n",
    "    if(x < -1.72148):\n",
    "        return 0.0\n",
    "    elif(x < -1.28155):\n",
    "        alpha = ((x + 1.28155) / (-1.72148 + 1.28155))\n",
    "        return alpha*0.1 + (1-alpha)*0.0\n",
    "    elif(x < -0.84162):\n",
    "        alpha = ((x + 0.84162) / (-1.28155 + 0.84162))\n",
    "        return alpha*0.2 + (1-alpha)*0.1\n",
    "    elif(x < -0.5244):\n",
    "        alpha = ((x + 0.5244) / (-0.84162 + 0.5244))\n",
    "        return alpha*0.3 + (1-alpha)*0.2\n",
    "    elif(x < -0.25335):\n",
    "        alpha = ((x + 0.25335) / (-0.5244 + 0.25335))\n",
    "        return alpha*0.4 + (1-alpha)*0.3\n",
    "    elif(x < 0.0):\n",
    "        alpha = ((x - 0.0) / (-0.25335 - 0.0))\n",
    "        return alpha*0.5 + (1-alpha)*0.4\n",
    "    elif(x < 0.25335):\n",
    "        alpha = ((x - 0.25335) / (0.0 - 0.25335))\n",
    "        return alpha*0.6 + (1-alpha)*0.5\n",
    "    elif(x < 0.5244):\n",
    "        alpha = ((x - 0.5244) / (0.25335 - 0.5244))\n",
    "        return alpha*0.7 + (1-alpha)*0.6\n",
    "    elif(x < 0.84162):\n",
    "        alpha = ((x - 0.84162) / (0.5244 - 0.84162))\n",
    "        return alpha*0.8 + (1-alpha)*0.7\n",
    "    elif(x < 1.28155):\n",
    "        alpha = ((x - 1.28155) / (0.84162 - 1.28155))\n",
    "        return alpha*0.9 + (1-alpha)*0.8\n",
    "    else:\n",
    "        return 1.0\n"
   ]
  },
  {
   "cell_type": "code",
   "execution_count": 19,
   "id": "a39528a0",
   "metadata": {},
   "outputs": [
    {
     "name": "stdout",
     "output_type": "stream",
     "text": [
      "Approximation fake_erf(x)= 0.5211 , Groundtruth erf(x)= 0.5793\n",
      "abs. error:  0.058\n"
     ]
    }
   ],
   "source": [
    "# Compare the two\n",
    "print('Approximation fake_erf(x)=', round(fake_erf(0.2), 4), ', Groundtruth erf(x)=', round(std_erf(0.2), 4))\n",
    "\n",
    "print('abs. error: ', round(abs(fake_erf(0.2) - std_erf(0.2)), 3))"
   ]
  },
  {
   "cell_type": "code",
   "execution_count": 21,
   "id": "b42d905e",
   "metadata": {},
   "outputs": [
    {
     "name": "stdout",
     "output_type": "stream",
     "text": [
      "Max difference:  0.1\n"
     ]
    }
   ],
   "source": [
    "# Check global performance (trivially)\n",
    "f_vals = [np.abs(fake_erf(x_loc) - std_erf(x_loc)) for x_loc in np.linspace(0.0,1.0,1001)]\n",
    "print('Max difference: ', round(max(f_vals), 4))"
   ]
  },
  {
   "cell_type": "markdown",
   "id": "68205fc9",
   "metadata": {},
   "source": [
    "## Black Scholes Reference Price"
   ]
  },
  {
   "cell_type": "code",
   "execution_count": null,
   "id": "a90a5149",
   "metadata": {},
   "outputs": [],
   "source": [
    "def N_CDF(x):\n",
    "    '''CDF of Standard Normal Distribution'''\n",
    "    return stats.norm.cdf(x, 0, 1)\n",
    "\n",
    "def BS(S, K, t, r, sigma):\n",
    "    assert S>=0 and K>=0 and sigma>=0 and t>=0 and r >=0, \"All inputs should be nonnegative\"\n",
    "    assert S > 0 and K > 0, \"Inputs \\'S\\' and \\'K\\' should be positive.\"\n",
    "    d_1 = (np.log(S/K) + (r + 0.5*sigma**2)*t) / (sigma * np.sqrt(t))\n",
    "    d_2 = d_1 - sigma * np.sqrt(t)\n",
    "    \n",
    "    return N_CDF(d_1)*S - N_CDF(d_2)*K*np.exp(-r*t)"
   ]
  },
  {
   "cell_type": "markdown",
   "id": "214f3a2c",
   "metadata": {},
   "source": []
  }
 ],
 "metadata": {
  "kernelspec": {
   "display_name": "Python 3.10.5 64-bit",
   "language": "python",
   "name": "python3"
  },
  "language_info": {
   "codemirror_mode": {
    "name": "ipython",
    "version": 3
   },
   "file_extension": ".py",
   "mimetype": "text/x-python",
   "name": "python",
   "nbconvert_exporter": "python",
   "pygments_lexer": "ipython3",
   "version": "3.10.5"
  },
  "vscode": {
   "interpreter": {
    "hash": "610c699f0cd8c4f129acd9140687fff6866bed0eb8e82f249fc8848b827b628c"
   }
  }
 },
 "nbformat": 4,
 "nbformat_minor": 5
}
